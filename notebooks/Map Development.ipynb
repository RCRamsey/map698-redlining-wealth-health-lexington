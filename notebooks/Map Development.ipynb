{
 "cells": [
  {
   "cell_type": "markdown",
   "id": "227074ba",
   "metadata": {},
   "source": [
    "# Map Development\n",
    "A Jupyter Notebook to piece together how to best create the map with desired ui/ux\n"
   ]
  },
  {
   "cell_type": "markdown",
   "id": "93b0bc67",
   "metadata": {},
   "source": [
    "<a id=''></a>\n",
    "\n",
    "\n",
    "### TOC\n",
    "- [Initial Data Form](#initialData)\n",
    "- [UI/UX Goals](#uiGoals)\n",
    "- [Data Statck and JS Libraries](#dataStackLibraries)\n",
    "- [Process](#processing)"
   ]
  },
  {
   "cell_type": "markdown",
   "id": "6b674071",
   "metadata": {},
   "source": [
    "<a id='initialData'></a>\n",
    "### Initial Data Form\n",
    "All data files currently reside in json or geojson form within redlining-wealth-health-lexington/notebooks/data dir. Multiple files exist that have only the initial data sets. The final data files to use are\n",
    "\n",
    "- race_cbtracts_hhi_own_val_pov_2019_gdf_json.json\n",
    "- KYLexington1936.geojson"
   ]
  },
  {
   "cell_type": "markdown",
   "id": "cafbf871",
   "metadata": {},
   "source": [
    "<a id='uiGoals'></a>\n",
    "### UI/UX Goals\n",
    "Full screen map  \n",
    "Left hand side scrolling info panel   \n",
    "Title center over top of map  \n",
    "Bottom left menu drop up button to select which layer of data to view  \n",
    "- % segregation/Race  \n",
    "- Median household income  \n",
    "- % population in poverty  \n",
    "- home ownership %  \n",
    "- property value reported  \n",
    "Bottom left slider bar to change opacity level of over lying HOLC neighborhood grades  \n",
    "Top right north arrow  \n",
    "Top right zoom button  \n",
    "Top right hide info button  "
   ]
  },
  {
   "cell_type": "markdown",
   "id": "1af9d765",
   "metadata": {},
   "source": [
    "<a id='dataStackLibraries'></a>\n",
    "### Data Stack and JS Libraries\n",
    "\n",
    "1. HTML/SVG/CSS for ui/ux and website styling  \n",
    "- Intend to use mini version of: \n",
    "    - [Assembly.css](https://www.mapbox.com/assembly/documentation/)\n",
    "- Alternative Options include:\n",
    "    - [Bootstrap](http://getbootstrap.com/)\n",
    "    - [HTML5 Boilerplate](https://html5boilerplate.com/)\n",
    "    - [Skeleton Boilerplate](http://getskeleton.com/)\n",
    "    - [Pure.css](https://purecss.io/)\n",
    "    - [Materialize](http://materializecss.com/)\n",
    "2. Mapbox GL JS for loading vector tiles and smooth interaction\n",
    "3. D3.js to load data as json and convert to geojson \n",
    "2. Mapbox GL JS Opacity/Slider Plug In. Example:\n",
    "- [Github Demo Example](https://github.com/dayjournal/mapbox-gl-opacity)\n",
    "- [Mapbox GL JS Example](https://docs.mapbox.com/mapbox-gl-js/example/adjust-layer-opacity/?q=add%20map%20layer%20geojson&size=n_10_n) Chicago raster map     \n",
    "5. chroma.js potentially for color scale?  \n",
    "6. Initially considered sparkline.js for tooltip specs of data or graphing but, probably something newer and maintained should be considered.  \n",
    "7. Could use mapshaper to simplify any files if size becomes issue\n",
    "8. Buttons/Info Panels examples:\n",
    "- 673-5 repo (Kenyan Education Map)  \n",
    "- Lexington Public Parks Throuh Redlining Lense Map  \n",
    "- 675-5 for Mapbox GL JS (plant hardiness zone map)  \n",
    "\n",
    "*Should most definitely write the scripts for inital run inside index.html but then pull them out as separate script files to call within the index.html and simplify/reduce the scripting within the index.html."
   ]
  },
  {
   "cell_type": "markdown",
   "id": "a116e9df",
   "metadata": {},
   "source": [
    "<a id='processing'></a>\n",
    "### Process/Status\n",
    "\n",
    "#### Index.html Template\n",
    "Create index.html file template **DONE**\n",
    "- Within the header links to various stylesheets are being utilized.  \n",
    "- An external css/styles.css stylesheet is being used to store my personal modifications of styling for the map. **modify/refine to place ui/ux approprpiately and adjust for mobile/desktop**  \n",
    "- Body currently has access to map.   \n",
    "- Base map pulled from personal style sheet (**modify/refine* later this is just to get the visualization of the project going**)  \n",
    "- Data is loaded through d3.json and acessible through addLayer function **add two layers at once**  \n",
    "  - current map layer is generic to show capability to access layer  \n",
    "- Zoom rotation/navigation control added through mapbox GL plugin **DONE**\n",
    "- Title bar added via div element and css **modify/refine**  \n",
    "\n",
    "#### Investigating\n",
    "When investigating the locally viewed map can do the following:\n",
    "Use Developer tools to see styling that is being selected. Since using both a styles.css file to further modify the initially loaded assembly.min may need confirmation of what rules are being followed.\n",
    "\n",
    "To undock the Developer tools from side bar/bottom bar follow [this](https://developer.chrome.com/docs/devtools/customize/placement/). Essentially open command menu for developer tools by short cut Control+Shift+P then type in one of these commands: Dock to left, Dock to right, Dock to bottom, Undock into separate window or Restore last dock position. To toggle Restore last dock position with a keyboard shortcut, press Control+Shift+D (Linux/Windows).From there Elements, Styles, Console can each have their own menu. \n",
    "\n",
    "Side note: when using Mapbox it uses something called a [*canvas*](https://developer.mozilla.org/en-US/docs/Web/API/Canvas_API) which can at times make it difficult to investigate. In this instance may need to load a plug-in during development and turn the plug off after developed (comment out it's code) for launch.\n",
    "\n",
    "**Elements** allows determination of separate entities. \n",
    "Select the element (div-class etc that you want to investigate) in the menu section of Elements. Selection is confirmed by the shadow over the div item.\n",
    "\n",
    "**Styles** allows determination of how the element is being styled. \n",
    "With an element selected, in the Styles menu the rules being applied will be displayed. The rules at the top of the styles menu overide those at the bottom. Those that are not being applied are typically striked thru text. Items that can't be changed are those ! important items.  \n",
    "\n",
    "To see the full script of rules visit the url styles page linked at the top of the index.html (min.assembly url). The API of the url will explain more about accessing the elements and styling them further with appropriate commands.\n",
    "https://api.mapbox.com/mapbox-assembly/v0.24.0/assembly.css\n",
    "https://labs.mapbox.com/assembly/documentation/\n",
    "\n",
    "Additional understanding of css vs flex box https://www.freecodecamp.org/news/css-positioning-and-flexbox-explained/\n",
    "\n",
    "Can also select a rule within this menu and turn it on or off using the checkboxes to see how the rule affects the element on the page (without having to go back into the code immediately/editing/saving every single time.)\n",
    "\n",
    "**Console** shows what the page has access to data wise.\n",
    "\n",
    "Using the notes above was able to diagnose why I was having trouble moving the slider opacity bar to the bottom of the page. Turns out by classifying a div as *map-overly top* I was overriding any alternative rules I'd place in styles.css. Needed to change it to *map-overlay bottom* and add ml24 mb36 to push it off the bottom of the page."
   ]
  },
  {
   "cell_type": "markdown",
   "id": "710ca597",
   "metadata": {},
   "source": [
    "<a id='layerOpacity'></a>\n",
    "#### Layer Opacity\n",
    "https://docs.mapbox.com/mapbox-gl-js/example/adjust-layer-opacity/ \n",
    "\n",
    "Followed guidance in this example to create opacity slider.\n",
    "This slider is linked to the redlining neighborhood data so that underlying data for comparison by tract level can be seen and reviewed at the same time. This makes it much easier to compare the census tract level (since it doesn't exactly line up with redlining layer) without having to turn off and on or constant slide a mid screen bar back and forth.\n",
    "**Need to refine the location of the slider using css**"
   ]
  },
  {
   "cell_type": "markdown",
   "id": "e9c4e621",
   "metadata": {},
   "source": [
    "<a id='infoBox'></a>\n",
    "#### Info Box\n",
    "- info scrolling panel added **needs scroll bar and fit text to inside the panel**\n",
    "- info button available and connected to infoPanel using this example https://sebhastian.com/javascript-show-hide-div-onclick-toggle/#:~:text=To%20display%20or%20hide%20a,which%20is%20block%20)%20to%20none%20"
   ]
  },
  {
   "cell_type": "markdown",
   "id": "4a2331de",
   "metadata": {},
   "source": []
  }
 ],
 "metadata": {
  "kernelspec": {
   "display_name": "Python 3 (ipykernel)",
   "language": "python",
   "name": "python3"
  },
  "language_info": {
   "codemirror_mode": {
    "name": "ipython",
    "version": 3
   },
   "file_extension": ".py",
   "mimetype": "text/x-python",
   "name": "python",
   "nbconvert_exporter": "python",
   "pygments_lexer": "ipython3",
   "version": "3.10.2"
  }
 },
 "nbformat": 4,
 "nbformat_minor": 5
}
