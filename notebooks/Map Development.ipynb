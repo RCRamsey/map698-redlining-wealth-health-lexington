{
 "cells": [
  {
   "cell_type": "markdown",
   "id": "227074ba",
   "metadata": {},
   "source": [
    "# Map Development\n",
    "A Jupyter Notebook to piece together how to best create the map with desired ui/ux\n"
   ]
  },
  {
   "cell_type": "markdown",
   "id": "93b0bc67",
   "metadata": {},
   "source": [
    "<a id=''></a>\n",
    "\n",
    "\n",
    "### TOC\n",
    "- [Initial Data Form](#initialData)\n",
    "- [UI/UX Goals](#uiGoals)\n",
    "- [Data Statck and JS Libraries](#dataStackLibraries)\n",
    "- [Process](#processing)"
   ]
  },
  {
   "cell_type": "markdown",
   "id": "6b674071",
   "metadata": {},
   "source": [
    "<a id='initialData'></a>\n",
    "### Initial Data Form\n",
    "All data files currently reside in json or geojson form within redlining-wealth-health-lexington/notebooks/data dir. Multiple files exist that have only the initial data sets. The final data files to use are\n",
    "\n",
    "- race_cbtracts_hhi_own_val_pov_2019_gdf_json.json\n",
    "- KYLexington1936.geojson"
   ]
  },
  {
   "cell_type": "markdown",
   "id": "cafbf871",
   "metadata": {},
   "source": [
    "<a id='uiGoals'></a>\n",
    "### UI/UX Goals\n",
    "Full screen map\n",
    "Left hand side scrolling info panel \n",
    "Title center over top of map\n",
    "Bottom left menu drop up button to select which layer of data to view\n",
    "- % segregation/Race\n",
    "- Median household income\n",
    "- % population in poverty\n",
    "- home ownership %\n",
    "- property value reported\n",
    "Bottom left slider bar to change opacity level of over lying HOLC neighborhood grades\n",
    "Top right north arrow\n",
    "Top right zoom button\n",
    "Top right hide info button\n",
    "\n",
    "Past Examples of buttons/info panels \n",
    "673-5 repo (Kenyan Education Map)  \n",
    "Lexington Public Parks Throuh Redlining Lense Map  \n",
    "675-5 for Mapbox GL JS (plant hardiness zone map)  \n"
   ]
  },
  {
   "cell_type": "markdown",
   "id": "1af9d765",
   "metadata": {},
   "source": [
    "<a id='dataStackLibraries'></a>\n",
    "### Data Stack and JS Libraries\n",
    "HTML/SVG/CSS for ui/ux and website styling  \n",
    "Options include:\n",
    "* [Bootstrap](http://getbootstrap.com/)\n",
    "* [HTML5 Boilerplate](https://html5boilerplate.com/)\n",
    "* [Skeleton Boilerplate](http://getskeleton.com/)\n",
    "* [Pure.css](https://purecss.io/)\n",
    "* [Materialize](http://materializecss.com/)\n",
    "* [Assembly.css](https://www.mapbox.com/assembly/documentation/)\n",
    "\n",
    "There is a plugin for gl js that can handle changing opacity...https://github.com/dayjournal/mapbox-gl-opacity (raster only...)\n",
    "The one example given on mapbox GL JS focuses more on raster image opacity change https://docs.mapbox.com/mapbox-gl-js/example/adjust-layer-opacity/?q=add%20map%20layer%20geojson&size=n_10_n\n",
    "Mapbox GL JS for loading vector tiles and smooth interaction    \n",
    "D3.js to load data as json and convert to geojson  \n",
    "chroma.js potentially for color scale  \n",
    "initially considered sparkline.js for tooltip specs of data or graphing but, probably something newer and maintained could consider.  \n",
    "Could use mapshaper to simplify any files if size becomes issue\n",
    "\n",
    "*Should most definitely write the scripts for inital run inside index.html but then pull them out as separate script files to call within the index.html and simplify/reduce the scripting within the index.html."
   ]
  },
  {
   "cell_type": "markdown",
   "id": "a116e9df",
   "metadata": {},
   "source": [
    "<a id='processing'></a>\n",
    "### Process\n",
    "An index.html file template has been made.\n",
    "Within the header links to various stylesheets are being utilized\n",
    "An external css/styles.css stylesheet is being used to store my personal modifications of styling for the map.\n",
    "\n",
    "Body currently has access to map \n",
    "- base map pulled from personal style sheet (need to modify/refine later this is just to get the visualization of the project going)\n",
    "- data is loaded through d3.json and acessible through addLayer function\n",
    "    - current map layer is generic to show capability to access layer\n",
    "    - will be linking to opacity control with a plugin and app.js (turns out this is for raster layers only. Need to figure out how to dynamically control the opacity for a vector layer.)\n",
    "    - could make a series of buttons appear like opacity and alter the opacity of the layer using https://docs.mapbox.com/mapbox-gl-js/example/color-switcher/ if can't find an alternative slider\n",
    "    - could work through slider to change div element opacity with HTML slider https://www.youtube.com/watch?v=amnuV3UUSNI \n",
    "- zoom rotation/navigation control added through mapboxgl plugin\n",
    "- title bar added via div element and css\n",
    "- info scrolling panel added\n",
    "- info button available but needs to connect to info scrolling panel to hide it when clicked\n"
   ]
  },
  {
   "cell_type": "markdown",
   "id": "010929e2",
   "metadata": {},
   "source": [
    "#### Thinking through Opacity Slider\n",
    "Already have a div element for the slider bar\n",
    "Need to create an event listener\n",
    "Need to access layer\n",
    "Need to restyle layer opacity based on event listener\n",
    "\n"
   ]
  }
 ],
 "metadata": {
  "kernelspec": {
   "display_name": "Python 3 (ipykernel)",
   "language": "python",
   "name": "python3"
  },
  "language_info": {
   "codemirror_mode": {
    "name": "ipython",
    "version": 3
   },
   "file_extension": ".py",
   "mimetype": "text/x-python",
   "name": "python",
   "nbconvert_exporter": "python",
   "pygments_lexer": "ipython3",
   "version": "3.10.2"
  }
 },
 "nbformat": 4,
 "nbformat_minor": 5
}
