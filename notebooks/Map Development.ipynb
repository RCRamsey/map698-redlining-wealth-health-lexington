{
 "cells": [
  {
   "cell_type": "markdown",
   "id": "07c6149a",
   "metadata": {},
   "source": [
    "# Map Development\n",
    "A Jupyter Notebook to piece together how to best create the map with desired ui/ux\n"
   ]
  },
  {
   "cell_type": "markdown",
   "id": "5bda6dca",
   "metadata": {},
   "source": [
    "<a id=''></a>\n",
    "\n",
    "\n",
    "### TOC\n",
    "- [Initial Data Form](#initialData)\n",
    "- [UI/UX Goals](#uiGoals)\n",
    "- [Data Statck and JS Libraries](#dataStackLibraries)"
   ]
  },
  {
   "cell_type": "markdown",
   "id": "2227b8f2",
   "metadata": {},
   "source": [
    "<a id='initialData'></a>\n",
    "### Initial Data Form\n",
    "All data files currently reside in json or geojson form within redlining-welath-health-lexington/notebooks/data dir. Multiple files exist that have only the initial data sets. The final data files to use are\n",
    "\n",
    "- race_cbtracts_hhi_own_val_pov_2019_gdf_json.json\n",
    "- KYLexington1936.geojson"
   ]
  },
  {
   "cell_type": "markdown",
   "id": "a6eeed84",
   "metadata": {},
   "source": [
    "<a id='uiGoals'></a>\n",
    "### UI/UX Goals\n",
    "Full screen map\n",
    "Left hand side scrolling info panel \n",
    "Title center over top of map\n",
    "Bottom left menu drop up button to select which layer of data to view\n",
    "- % segregation/Race\n",
    "- Median household income\n",
    "- % population in poverty\n",
    "- home ownership %\n",
    "- property value reported\n",
    "Bottom left slider bar to change opacity level of over lying HOLC neighborhood grades\n",
    "Top right north arrow\n",
    "Top right zoom button\n",
    "Top right hide info button\n",
    "\n",
    "Past Examples of buttons/info panels \n",
    "673-5 repo (Kenyan Education Map)  \n",
    "Lexington Public Parks Throuh Redlining Lense Map  \n",
    "675-5 for Mapbox GL JS (plant hardiness zone map)  \n"
   ]
  },
  {
   "cell_type": "markdown",
   "id": "316f269b",
   "metadata": {},
   "source": [
    "<a id='dataStackLibraries'></a>\n",
    "### Data Stack and JS Libraries\n",
    "HTML/SVG/CSS for ui/ux and website styling  \n",
    "Mapbox GL JS for loading vector tiles and smooth interaction    \n",
    "D3.js to load data as json and convert to geojson  \n",
    "chroma.js potentially for color scale  \n",
    "initially considered sparkline.js for tooltip specs of data or graphing but, probably something newer and maintained could consider.  \n",
    "Could use mapshaper to simplify any files if size becomes issue"
   ]
  },
  {
   "cell_type": "code",
   "execution_count": null,
   "id": "9486bf7d",
   "metadata": {},
   "outputs": [],
   "source": []
  }
 ],
 "metadata": {
  "kernelspec": {
   "display_name": "Python 3 (ipykernel)",
   "language": "python",
   "name": "python3"
  },
  "language_info": {
   "codemirror_mode": {
    "name": "ipython",
    "version": 3
   },
   "file_extension": ".py",
   "mimetype": "text/x-python",
   "name": "python",
   "nbconvert_exporter": "python",
   "pygments_lexer": "ipython3",
   "version": "3.10.2"
  }
 },
 "nbformat": 4,
 "nbformat_minor": 5
}
