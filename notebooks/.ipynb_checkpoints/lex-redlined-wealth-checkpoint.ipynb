{
 "cells": [
  {
   "cell_type": "markdown",
   "id": "3c39d818",
   "metadata": {},
   "source": [
    "# Exploring Lexington's Redlined Neighborhoods: Wealth\n",
    "\n",
    "This notebook covers the steps taken to collect and pre-process data for redlining-wealth-health-lexington github repo.\n",
    "\n",
    "A fair amount of data for Lexington can be found in their archub data portal\n",
    "https://data-lfucg.hub.arcgis.com/\n",
    "\n",
    "## Education Aspect\n",
    "\n",
    "- Education location proximity of institutions or libraries through time (as higher education can lead to higher income)\n",
    "\n",
    "[Current Data](https://data-lfucg.hub.arcgis.com/datasets/67c201f27cd24921a21c69a420f6cae1_0/explore?location=38.039783%2C-84.489022%2C12.21). \n",
    "Historical Data?\n",
    "\n",
    "\n",
    "\n"
   ]
  }
 ],
 "metadata": {
  "kernelspec": {
   "display_name": "Python 3 (ipykernel)",
   "language": "python",
   "name": "python3"
  },
  "language_info": {
   "codemirror_mode": {
    "name": "ipython",
    "version": 3
   },
   "file_extension": ".py",
   "mimetype": "text/x-python",
   "name": "python",
   "nbconvert_exporter": "python",
   "pygments_lexer": "ipython3",
   "version": "3.10.2"
  }
 },
 "nbformat": 4,
 "nbformat_minor": 5
}
